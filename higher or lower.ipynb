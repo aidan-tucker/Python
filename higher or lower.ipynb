{
 "cells": [
  {
   "cell_type": "code",
   "execution_count": 1,
   "metadata": {},
   "outputs": [
    {
     "name": "stdout",
     "output_type": "stream",
     "text": [
      "Welcome to the game!\n",
      "You have 6 guesses\n",
      "Guessed 50, go higher\n",
      "Guessed 70, go higher\n",
      "Guessed 90, go lower\n",
      "Guessed 85, go lower\n",
      "Guessed 75, go lower\n",
      "Guessed 73, go lower\n",
      "Sorry, you didn't get the number. The number was 71\n",
      "Game has been quit. Thanks for playing!\n"
     ]
    }
   ],
   "source": [
    "import random\n",
    "import math\n",
    "\n",
    "quit = False\n",
    "\n",
    "print(\"Welcome to the game!\")\n",
    "while not quit:\n",
    "    valid = False\n",
    "    found = False\n",
    "    while not valid:\n",
    "        try:\n",
    "            max = input(\"Enter a range (or 'q' to quit): \")\n",
    "            if max.lower() == 'q':\n",
    "                quit = True\n",
    "                break\n",
    "            max = int(max)\n",
    "            guesses = int(math.log2(max))\n",
    "            x = random.randint(1, max)\n",
    "            if not guesses > 0:\n",
    "                raise ValueError(\"math domain error\")\n",
    "            else:\n",
    "                valid = True\n",
    "                print(f\"You have {guesses} guesses\")\n",
    "        except ValueError as e:\n",
    "            print(f\"{e}\")\n",
    "\n",
    "    while not found:\n",
    "        try:\n",
    "            guess = input(\"Enter a guess (or 'q' to quit): \")\n",
    "            if guess.lower() == 'q':\n",
    "                quit = True\n",
    "                break\n",
    "            guess = int(guess)\n",
    "            if not 0 < guess <= max:\n",
    "                print(f\"invalid index out of range: '{guess}'\")\n",
    "            else:\n",
    "                if guess == x:\n",
    "                    print(\"Well done, you win!\")\n",
    "                    end = input()\n",
    "                    if end.lower() == 'q':\n",
    "                        quit = True\n",
    "                        break\n",
    "                    else:\n",
    "                        found = True\n",
    "                        break\n",
    "                elif guess > x:\n",
    "                    print(f\"Guessed {guess}, go lower\")\n",
    "                elif guess < x:\n",
    "                    print(f\"Guessed {guess}, go higher\")\n",
    "\n",
    "                guesses -= 1\n",
    "                if guesses == 0:\n",
    "                    print(f\"Sorry, you didn't get the number. The number was {x}\")\n",
    "                    end = input()\n",
    "                    if end.lower() == 'q':\n",
    "                        quit = True\n",
    "                        break\n",
    "                    else:\n",
    "                        found = True\n",
    "                        break\n",
    "        except ValueError as e:\n",
    "            print(f\"{e}\")\n",
    "\n",
    "if quit:\n",
    "    print(\"Game has been quit. Thanks for playing!\")"
   ]
  }
 ],
 "metadata": {
  "kernelspec": {
   "display_name": "Python 3",
   "language": "python",
   "name": "python3"
  },
  "language_info": {
   "codemirror_mode": {
    "name": "ipython",
    "version": 3
   },
   "file_extension": ".py",
   "mimetype": "text/x-python",
   "name": "python",
   "nbconvert_exporter": "python",
   "pygments_lexer": "ipython3",
   "version": "3.11.7"
  },
  "orig_nbformat": 4
 },
 "nbformat": 4,
 "nbformat_minor": 2
}
